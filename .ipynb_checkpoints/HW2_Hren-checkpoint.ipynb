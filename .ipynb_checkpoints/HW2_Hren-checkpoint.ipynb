{
 "cells": [
  {
   "cell_type": "markdown",
   "metadata": {},
   "source": [
    "Can you think of certain scenario where we have to use variables, rather than loose values?"
   ]
  },
  {
   "cell_type": "code",
   "execution_count": 1,
   "metadata": {},
   "outputs": [],
   "source": [
    "# When the professor wants to email the whole class. To do it he chooses a \"variable\" that has everyone's email\n",
    "# When we use pi for calculation. Since its infinite we let the computer choose numbers known"
   ]
  },
  {
   "cell_type": "markdown",
   "metadata": {},
   "source": [
    "Q1: Debugging Question\n",
    "### What is wrong with following statement? How do your fix it?\n",
    "my variable == 3\n",
    "Use the code block below to fix the code, and provide comments about how you fixed it."
   ]
  },
  {
   "cell_type": "code",
   "execution_count": 4,
   "metadata": {},
   "outputs": [],
   "source": [
    "# my_variable = 3\n",
    "# There must be no spaces when you are naming variables.\n",
    "# To assign the variable we use the = sign. Using two means you wat to compare if the two values are the same."
   ]
  },
  {
   "cell_type": "markdown",
   "metadata": {},
   "source": [
    "Q2: Coding Question\n",
    "Ask the user (yourself) to enter two intergers, and print out the sum and difference of the two integers.\n",
    "\n",
    "You need to make sure your program only take integers, so if a float is entered, it need to be converted to integers.\n",
    "HINT: read PY4E pp. 25 - 26.\n",
    "The expected output for your code is (you can use different numbers in your own code):\n",
    "Enter your first integer: 10\n",
    "Enter your second integer: 20\n",
    "The sum is: 30\n",
    "The difference is: -10\n",
    "Complete/fix the code below."
   ]
  },
  {
   "cell_type": "code",
   "execution_count": null,
   "metadata": {},
   "outputs": [],
   "source": [
    "# First we assigned variables num1 and num2 for user input\n",
    "# In input we write a string message that the user will be asked - this is a string\n",
    "# Therefore, the computer believes that the input of users will be also a string\n",
    "# So, we need to assure the computer that we want integer answers by using int() for num1, num2"
   ]
  },
  {
   "cell_type": "code",
   "execution_count": 1,
   "metadata": {},
   "outputs": [
    {
     "name": "stdin",
     "output_type": "stream",
     "text": [
      "Enter your first integer:  10\n"
     ]
    }
   ],
   "source": [
    "num1 = input('Enter your first integer: ')"
   ]
  },
  {
   "cell_type": "code",
   "execution_count": 2,
   "metadata": {},
   "outputs": [
    {
     "name": "stdin",
     "output_type": "stream",
     "text": [
      "Enter your second integer:  20\n"
     ]
    }
   ],
   "source": [
    "num2 = input('Enter your second integer: ')"
   ]
  },
  {
   "cell_type": "code",
   "execution_count": 3,
   "metadata": {},
   "outputs": [
    {
     "name": "stdout",
     "output_type": "stream",
     "text": [
      "The sum is:  30\n"
     ]
    }
   ],
   "source": [
    "print('The sum is: ', int(num1) + int(num2))"
   ]
  },
  {
   "cell_type": "code",
   "execution_count": 4,
   "metadata": {},
   "outputs": [
    {
     "name": "stdout",
     "output_type": "stream",
     "text": [
      "The difference is: -10\n"
     ]
    }
   ],
   "source": [
    "print('The difference is:', int(num1) - int(num2))"
   ]
  },
  {
   "cell_type": "markdown",
   "metadata": {},
   "source": [
    "Q3: Coding Question\n",
    "Compute the area of a triagle. From the geometry class we know the area of a triangle is computed via:\n",
    "\n",
    "𝐀𝐫𝐞𝐚=(ℎ𝑒𝑖𝑔ℎ𝑡𝑥𝑏𝑎𝑠𝑒)/2 \n",
    "Write your own code, with comments, to implement above equation."
   ]
  },
  {
   "cell_type": "code",
   "execution_count": 5,
   "metadata": {},
   "outputs": [],
   "source": [
    "# First we assign height and base variables a value (this case random)"
   ]
  },
  {
   "cell_type": "code",
   "execution_count": 6,
   "metadata": {},
   "outputs": [],
   "source": [
    "height = 5\n",
    "base = 4"
   ]
  },
  {
   "cell_type": "code",
   "execution_count": 8,
   "metadata": {},
   "outputs": [],
   "source": [
    "# Then we use the formula above and assign this calculation to variable area."
   ]
  },
  {
   "cell_type": "code",
   "execution_count": 9,
   "metadata": {},
   "outputs": [],
   "source": [
    "area = (height*base)/2"
   ]
  },
  {
   "cell_type": "raw",
   "metadata": {},
   "source": [
    "# Now we print the variable area to get the result"
   ]
  },
  {
   "cell_type": "code",
   "execution_count": 10,
   "metadata": {},
   "outputs": [
    {
     "name": "stdout",
     "output_type": "stream",
     "text": [
      "10.0\n"
     ]
    }
   ],
   "source": [
    "print (area)"
   ]
  },
  {
   "cell_type": "markdown",
   "metadata": {},
   "source": [
    "Question: Rewrite the (a, b, c) choice conditional using Nested Conditionals."
   ]
  },
  {
   "cell_type": "code",
   "execution_count": 41,
   "metadata": {},
   "outputs": [],
   "source": [
    "# Again we assign value input to the variable\n",
    "# Then we say if the user inputs \"a\" say, \"Bad guess\"\n",
    "# Else (if not a), then if usern input is \"b\", say \"Good guees\"\n",
    "# Same for c\n",
    "# Last 2 lines: else --> if user inputs any other value, remind him that he can only use a, b or c"
   ]
  },
  {
   "cell_type": "code",
   "execution_count": 42,
   "metadata": {},
   "outputs": [
    {
     "name": "stdin",
     "output_type": "stream",
     "text": [
      "Enter your guess (a, b, or, c):  b\n"
     ]
    },
    {
     "name": "stdout",
     "output_type": "stream",
     "text": [
      "Good guess\n"
     ]
    }
   ],
   "source": [
    "choice = input(\"Enter your guess (a, b, or, c): \")\n",
    "if choice == \"a\":\n",
    "    print (\"Bad guess\")\n",
    "else:\n",
    "    if choice == \"b\":\n",
    "        print(\"Good guess\")\n",
    "    else:\n",
    "        if choice == \"c\":\n",
    "            print(\"Close, but not correct\")\n",
    "        else:\n",
    "            print(\"Please use only a, b, or c\")"
   ]
  },
  {
   "cell_type": "markdown",
   "metadata": {},
   "source": [
    "Q1. Coding Problem\n",
    "Check Factors:\n",
    "Given four values, check if the first three values are factors of fourth value. Factor, in mathematics, a number or algebraic expression that divides another number or expression evenly.\n",
    "\n",
    "Example input/output:\n",
    "\n",
    "1, 2, 4, 8 -> Yes, 1, 2, 4 are all factors of 8.\n",
    "1, 2, 3, 9 -> No, 1, 2, 3 are not all factors of 9.\n",
    "1, 2, 50, 100 -> Yes, 1, 2, 50 are all factors of 100.\n",
    "Use the code block below to write your program."
   ]
  },
  {
   "cell_type": "code",
   "execution_count": 2,
   "metadata": {},
   "outputs": [
    {
     "name": "stdin",
     "output_type": "stream",
     "text": [
      "Please input an intiger:  284\n"
     ]
    },
    {
     "name": "stdout",
     "output_type": "stream",
     "text": [
      "This number is not a factor of any number.\n"
     ]
    }
   ],
   "source": [
    "# I expanded the program to check for any number that is inputed if its a factor of 8, 9, and 100.\n",
    "# If the number is the factor of more than 1 (e.g. 8 and 9) it will print it \n",
    "# Working assumption: input accepts pnly integer values. I used try and except to make sure\n",
    "# I used nested conditional statements to check if 8, 9, or/and 100 have the same factor\n",
    "# This is not practical and its long but for 3 values it works ok\n",
    "# I am sure there is a simpler way to do this and will follow up in class with this question\n",
    "try:\n",
    "    factors = int(input(\"Please input an intiger: \")) # Convert the input to intigers\n",
    "    mod1 = 8 % factors # variable holds the equation to check if this inputed nbr (factors) is a factor of 8 \n",
    "    mod2 = 9 % factors\n",
    "    mod3 = 100 % factors\n",
    "\n",
    "    if mod1 == 0 and mod2 == 0 and mod3 == 0: # if the remainder is 0 for all three print the following\n",
    "        print(\"True, this number is a factor of 8, 9, 100. The remainder is 0 after division\")\n",
    "    else:\n",
    "        if mod1 == 0 and mod2 == 0:\n",
    "            print (\"True, this number is a factor of 8 and 9. The remainder is 0 after division\")\n",
    "        else:\n",
    "            if mod1 == 0 and mod3 ==0:\n",
    "                print (\"True, this number is a factor of 8 and 100. The remainder is 0 after division\")\n",
    "            else:\n",
    "                if mod2 == 0 and mod3 == 0:\n",
    "                    print(\"True, this number is a factor of 9 and 100. The remainder is 0 after division\")\n",
    "                else:\n",
    "                    if mod1 == 0:\n",
    "                        print(\"True, this number is a factor of 8. The remainder is 0 after division\")\n",
    "                    else: \n",
    "                        if mod2 == 0:\n",
    "                            print(\"True, this number is a factor of 9. The remainder is 0 after division\")\n",
    "                        else:\n",
    "                            if mod3 == 0:\n",
    "                                print(\"True, this number is a factor of 100. The remainder is 0 after division\")\n",
    "                            else: \n",
    "                                print(\"This number is not a factor of any number.\") # If there is no factors say this\n",
    "except: # if an invalid input is enter say the following\n",
    "    print(\"Please enter an intiger!\")"
   ]
  },
  {
   "cell_type": "markdown",
   "metadata": {},
   "source": [
    "Q2. Coding Problem\n",
    "Grading scale:\n",
    "Suppose a high school uses following grading scale:\n",
    "\n",
    "Letter Grade\tPoint Range\n",
    "A\t90 - 100\n",
    "B\t80 - 89\n",
    "C\t70 - 79\n",
    "D\t60 - 69\n",
    "F\t0 - 59\n",
    "Write two programs, one using chained conditionals, the other using nested conditionals, to:\n",
    "\n",
    "Take the user input of a point grade;\n",
    "if the input is not a number, or not in the range of [0, 100] then print 'Enter a legit point please!'\n",
    "Display the according letter grade using the table below;"
   ]
  },
  {
   "cell_type": "code",
   "execution_count": 2,
   "metadata": {},
   "outputs": [],
   "source": [
    "# Chained conditionals\n",
    "    # We use if for the first condition and then elif for others \n",
    "    # Variable grade is assigned to user input \n",
    "    # Grade is currently a string so we convert it by using int()\n",
    "    # Working assumption: no floats, characters or symols \n",
    "    # --> so for those students between grades teacher decides (e.g 89.5 is A or B)\n",
    "    # To catch if the user uses anything other than the integer we use try: in the beginning and except: message in the end"
   ]
  },
  {
   "cell_type": "code",
   "execution_count": 21,
   "metadata": {},
   "outputs": [
    {
     "name": "stdin",
     "output_type": "stream",
     "text": [
      "Please enter your integer percentage grade (0-100): 90\n"
     ]
    },
    {
     "name": "stdout",
     "output_type": "stream",
     "text": [
      "A\n"
     ]
    }
   ],
   "source": [
    "grade = input(\"Please enter your integer percentage grade (0-100):\" )\n",
    "try:\n",
    "    grade = int(grade)\n",
    "    if (grade >= 90 and grade <= 100):\n",
    "        print (\"A\") # if the grade is between 90 and 100, print A\n",
    "    elif (grade >= 80 and grade <= 89):\n",
    "         print (\"B\") # repeat for B and so on...\n",
    "    elif (grade >= 70 and grade <= 79):\n",
    "        print (\"C\")\n",
    "    elif (grade >= 60 and grade <= 69):\n",
    "         print (\"D\")\n",
    "    elif (grade >= 0 and grade <= 59):\n",
    "        print (\"F\")\n",
    "# If the user enters anything other than an integer print the following\n",
    "    else: \n",
    "        print(\"Please enter an integer between 0-100\")\n",
    "except:\n",
    "    print (\"Please enter an integer between 0-100\")"
   ]
  },
  {
   "cell_type": "code",
   "execution_count": 22,
   "metadata": {},
   "outputs": [],
   "source": [
    "# Nested conditionals\n",
    "    # Similar process and working assumption applies here\n",
    "    # Difference: we use different variable, and if and else to nest the conditionals in\n",
    "    # e.g. if grade is between 90-100, its \"A\", else if grade is between 80-90 its \"B\" etc.\n",
    "    # We also use try and except to catch any other non-integer values "
   ]
  },
  {
   "cell_type": "code",
   "execution_count": 2,
   "metadata": {},
   "outputs": [
    {
     "name": "stdin",
     "output_type": "stream",
     "text": [
      "Please enter your integer percantage grade (e.g. 94): 91\n"
     ]
    },
    {
     "name": "stdout",
     "output_type": "stream",
     "text": [
      "A\n"
     ]
    }
   ],
   "source": [
    "grade2 = input (\"Please enter your integer percantage grade (e.g. 94):\")\n",
    "try:\n",
    "    grade2 = int (grade2)\n",
    "    if (grade2 >= 90 and grade2 <= 100):\n",
    "        print (\"A\") # if the grade is between 90 and 100, print A\n",
    "    else:\n",
    "        if (grade2 >= 80 and grade2 <= 89):\n",
    "            print (\"B\") # repeat for B and so on...\n",
    "        else:\n",
    "            if (grade2 >= 70 and grade2 <= 79):\n",
    "                print (\"C\")\n",
    "            else:\n",
    "                if (grade2 >= 60 and grade2 <= 69):\n",
    "                    print (\"D\")\n",
    "                else:\n",
    "                    if (grade2 >= 0 and grade2 <= 59):\n",
    "                        print (\"F\")\n",
    "# If the user enters anything other than an integer print the following\n",
    "                    else:\n",
    "                        print (\"Please enter an integer percentage 0-100\")\n",
    "except:\n",
    "    print (\"Please enter an integer percentage 0-100\")"
   ]
  },
  {
   "cell_type": "markdown",
   "metadata": {},
   "source": [
    "Q3. Code Completion Question\n",
    "Range of Third Edge\n",
    "From geometry we know that for any triangle, lenthg of the third edge of the traingle falls into a certain range:\n",
    "\n",
    "(edge1_len - edge2_len) + 1 <= edge3_len <= (edge1_len + edge2_len) - 1\n",
    "\n",
    "In which, edge1_len is the length of the 1st edge, and so forth.\n",
    "\n",
    "Complete/Fix the following program, so that it can:\n",
    "\n",
    "Take user inputs of edge1_len and edge2_len\n",
    "Print out the range of the third edge\n",
    "If any of the input is not number, print out error 'Please only enter numeric values!'"
   ]
  },
  {
   "cell_type": "code",
   "execution_count": 1,
   "metadata": {},
   "outputs": [
    {
     "name": "stdin",
     "output_type": "stream",
     "text": [
      "Please enter edge1 length:  1\n",
      "Please enter edge2 length:  2\n"
     ]
    },
    {
     "name": "stdout",
     "output_type": "stream",
     "text": [
      "Range of length of edge3 is:  4.0\n"
     ]
    }
   ],
   "source": [
    "# Take user input of edge 1\n",
    "# Convert the input to be a float to take any nbr value to calculate the result stored in 2 variables\n",
    "# Working assumption: We only accept float results (integers will be converted), other not accepted \n",
    "try:\n",
    "    edge1_len = float(input('Please enter edge1 length: '))\n",
    "    edge2_len = float(input('Please enter edge2 length: '))\n",
    "    max_len = 0 # do not understand this\n",
    "    min_len = 0\n",
    "\n",
    "    \n",
    "# complete code below\n",
    "    min_len = abs(edge1_len - edge2_len)+ 1 # abs() takes the absolute value since the length cannot be negative\n",
    "    max_len = abs(edge1_len + edge2_len) - 1 # added the remaining formula in instructions to calculate edge 2\n",
    "    len3=max_len+min_len # Lenght of the 3rd edge is stored in len3\n",
    "    print('Range of length of edge3 is: ', len3) # print the result\n",
    "except:\n",
    "    print(\"Please only enter intigers or floats!\") # if non-numeric input entered print this\n"
   ]
  },
  {
   "cell_type": "code",
   "execution_count": null,
   "metadata": {},
   "outputs": [],
   "source": [
    "# "
   ]
  }
 ],
 "metadata": {
  "kernelspec": {
   "display_name": "Python 3",
   "language": "python",
   "name": "python3"
  },
  "language_info": {
   "codemirror_mode": {
    "name": "ipython",
    "version": 3
   },
   "file_extension": ".py",
   "mimetype": "text/x-python",
   "name": "python",
   "nbconvert_exporter": "python",
   "pygments_lexer": "ipython3",
   "version": "3.6.7"
  }
 },
 "nbformat": 4,
 "nbformat_minor": 2
}
